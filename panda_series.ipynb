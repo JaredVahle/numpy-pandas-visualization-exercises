{
 "cells": [
  {
   "cell_type": "code",
   "execution_count": 1,
   "id": "344775ae",
   "metadata": {},
   "outputs": [],
   "source": [
    "import pandas as pd\n",
    "import numpy as np"
   ]
  },
  {
   "cell_type": "code",
   "execution_count": 2,
   "id": "22fdd8aa",
   "metadata": {},
   "outputs": [],
   "source": [
    "fruit =     [\"kiwi\", \"mango\", \"strawberry\", \"pineapple\", \"gala apple\", \"honeycrisp apple\", \"tomato\", \"watermelon\", \"honeydew\", \"kiwi\", \"kiwi\", \"kiwi\", \"mango\", \"blueberry\", \"blackberry\", \"gooseberry\", \"papaya\"]"
   ]
  },
  {
   "cell_type": "code",
   "execution_count": 3,
   "id": "4fba0bb8",
   "metadata": {},
   "outputs": [
    {
     "data": {
      "text/plain": [
       "['kiwi',\n",
       " 'mango',\n",
       " 'strawberry',\n",
       " 'pineapple',\n",
       " 'gala apple',\n",
       " 'honeycrisp apple',\n",
       " 'tomato',\n",
       " 'watermelon',\n",
       " 'honeydew',\n",
       " 'kiwi',\n",
       " 'kiwi',\n",
       " 'kiwi',\n",
       " 'mango',\n",
       " 'blueberry',\n",
       " 'blackberry',\n",
       " 'gooseberry',\n",
       " 'papaya']"
      ]
     },
     "execution_count": 3,
     "metadata": {},
     "output_type": "execute_result"
    }
   ],
   "source": [
    "fruit"
   ]
  },
  {
   "cell_type": "code",
   "execution_count": 4,
   "id": "b9c81da0",
   "metadata": {},
   "outputs": [],
   "source": [
    "fruits = pd.Series(fruit)"
   ]
  },
  {
   "cell_type": "code",
   "execution_count": 5,
   "id": "aaad6ea5",
   "metadata": {},
   "outputs": [
    {
     "data": {
      "text/plain": [
       "0                 kiwi\n",
       "1                mango\n",
       "2           strawberry\n",
       "3            pineapple\n",
       "4           gala apple\n",
       "5     honeycrisp apple\n",
       "6               tomato\n",
       "7           watermelon\n",
       "8             honeydew\n",
       "9                 kiwi\n",
       "10                kiwi\n",
       "11                kiwi\n",
       "12               mango\n",
       "13           blueberry\n",
       "14          blackberry\n",
       "15          gooseberry\n",
       "16              papaya\n",
       "dtype: object"
      ]
     },
     "execution_count": 5,
     "metadata": {},
     "output_type": "execute_result"
    }
   ],
   "source": [
    "fruits"
   ]
  },
  {
   "cell_type": "markdown",
   "id": "5a7bfb33",
   "metadata": {},
   "source": [
    "### Determine the number of elements in fruits."
   ]
  },
  {
   "cell_type": "code",
   "execution_count": 10,
   "id": "fa0f49ba",
   "metadata": {},
   "outputs": [
    {
     "data": {
      "text/plain": [
       "17"
      ]
     },
     "execution_count": 10,
     "metadata": {},
     "output_type": "execute_result"
    }
   ],
   "source": [
    "fruits.size"
   ]
  },
  {
   "cell_type": "markdown",
   "id": "9eb72894",
   "metadata": {},
   "source": [
    "### Output only the index from fruits."
   ]
  },
  {
   "cell_type": "code",
   "execution_count": 14,
   "id": "b6314417",
   "metadata": {},
   "outputs": [
    {
     "data": {
      "text/plain": [
       "RangeIndex(start=0, stop=17, step=1)"
      ]
     },
     "execution_count": 14,
     "metadata": {},
     "output_type": "execute_result"
    }
   ],
   "source": [
    "fruits.index"
   ]
  },
  {
   "cell_type": "code",
   "execution_count": 59,
   "id": "7b98c44b",
   "metadata": {},
   "outputs": [
    {
     "data": {
      "text/plain": [
       "[0, 1, 2, 3, 4, 5, 6, 7, 8, 9, 10, 11, 12, 13, 14, 15, 16]"
      ]
     },
     "execution_count": 59,
     "metadata": {},
     "output_type": "execute_result"
    }
   ],
   "source": [
    "list(fruits.index)"
   ]
  },
  {
   "cell_type": "markdown",
   "id": "f8591950",
   "metadata": {},
   "source": [
    "### Output only the values from fruits."
   ]
  },
  {
   "cell_type": "code",
   "execution_count": 15,
   "id": "e6f42849",
   "metadata": {},
   "outputs": [
    {
     "data": {
      "text/plain": [
       "array(['kiwi', 'mango', 'strawberry', 'pineapple', 'gala apple',\n",
       "       'honeycrisp apple', 'tomato', 'watermelon', 'honeydew', 'kiwi',\n",
       "       'kiwi', 'kiwi', 'mango', 'blueberry', 'blackberry', 'gooseberry',\n",
       "       'papaya'], dtype=object)"
      ]
     },
     "execution_count": 15,
     "metadata": {},
     "output_type": "execute_result"
    }
   ],
   "source": [
    "fruits.values"
   ]
  },
  {
   "cell_type": "code",
   "execution_count": 69,
   "id": "35c0ec4a",
   "metadata": {},
   "outputs": [
    {
     "data": {
      "text/plain": [
       "['kiwi',\n",
       " 'mango',\n",
       " 'strawberry',\n",
       " 'pineapple',\n",
       " 'gala apple',\n",
       " 'honeycrisp apple',\n",
       " 'tomato',\n",
       " 'watermelon',\n",
       " 'honeydew',\n",
       " 'kiwi',\n",
       " 'kiwi',\n",
       " 'kiwi',\n",
       " 'mango',\n",
       " 'blueberry',\n",
       " 'blackberry',\n",
       " 'gooseberry',\n",
       " 'papaya']"
      ]
     },
     "execution_count": 69,
     "metadata": {},
     "output_type": "execute_result"
    }
   ],
   "source": [
    "fruits.values.tolist()"
   ]
  },
  {
   "cell_type": "markdown",
   "id": "1ffbf9df",
   "metadata": {},
   "source": [
    "### Confirm the data type of the values in fruits."
   ]
  },
  {
   "cell_type": "code",
   "execution_count": 17,
   "id": "374f23da",
   "metadata": {},
   "outputs": [
    {
     "data": {
      "text/plain": [
       "dtype('O')"
      ]
     },
     "execution_count": 17,
     "metadata": {},
     "output_type": "execute_result"
    }
   ],
   "source": [
    "fruits.dtype"
   ]
  },
  {
   "cell_type": "markdown",
   "id": "86b52d28",
   "metadata": {},
   "source": [
    "### Output only the first five values from fruits. Output the last three values. Output two random values from fruits."
   ]
  },
  {
   "cell_type": "code",
   "execution_count": 18,
   "id": "f30de8cd",
   "metadata": {},
   "outputs": [
    {
     "data": {
      "text/plain": [
       "0          kiwi\n",
       "1         mango\n",
       "2    strawberry\n",
       "3     pineapple\n",
       "4    gala apple\n",
       "dtype: object"
      ]
     },
     "execution_count": 18,
     "metadata": {},
     "output_type": "execute_result"
    }
   ],
   "source": [
    "fruits.head(5)"
   ]
  },
  {
   "cell_type": "code",
   "execution_count": 19,
   "id": "41fce8c9",
   "metadata": {},
   "outputs": [
    {
     "data": {
      "text/plain": [
       "14    blackberry\n",
       "15    gooseberry\n",
       "16        papaya\n",
       "dtype: object"
      ]
     },
     "execution_count": 19,
     "metadata": {},
     "output_type": "execute_result"
    }
   ],
   "source": [
    "fruits.tail(3)"
   ]
  },
  {
   "cell_type": "code",
   "execution_count": 21,
   "id": "4e49a8aa",
   "metadata": {},
   "outputs": [
    {
     "data": {
      "text/plain": [
       "0      kiwi\n",
       "12    mango\n",
       "dtype: object"
      ]
     },
     "execution_count": 21,
     "metadata": {},
     "output_type": "execute_result"
    }
   ],
   "source": [
    "fruits.sample(2)"
   ]
  },
  {
   "cell_type": "markdown",
   "id": "c4550fe8",
   "metadata": {},
   "source": [
    "### Run the .describe() on fruits to see what information it returns when called on a Series with string values."
   ]
  },
  {
   "cell_type": "code",
   "execution_count": 22,
   "id": "950ce3e8",
   "metadata": {},
   "outputs": [
    {
     "data": {
      "text/plain": [
       "count       17\n",
       "unique      13\n",
       "top       kiwi\n",
       "freq         4\n",
       "dtype: object"
      ]
     },
     "execution_count": 22,
     "metadata": {},
     "output_type": "execute_result"
    }
   ],
   "source": [
    "fruits.describe()"
   ]
  },
  {
   "cell_type": "markdown",
   "id": "3f20537b",
   "metadata": {},
   "source": [
    "### Run the code necessary to produce only the unique string values from fruits."
   ]
  },
  {
   "cell_type": "code",
   "execution_count": 32,
   "id": "3a80387f",
   "metadata": {},
   "outputs": [
    {
     "data": {
      "text/plain": [
       "array(['kiwi', 'mango', 'strawberry', 'pineapple', 'gala apple',\n",
       "       'honeycrisp apple', 'tomato', 'watermelon', 'honeydew',\n",
       "       'blueberry', 'blackberry', 'gooseberry', 'papaya'], dtype=object)"
      ]
     },
     "execution_count": 32,
     "metadata": {},
     "output_type": "execute_result"
    }
   ],
   "source": [
    "pd.unique(fruits)"
   ]
  },
  {
   "cell_type": "markdown",
   "id": "6b1a8f63",
   "metadata": {},
   "source": [
    "### Determine how many times each unique string value occurs in fruits."
   ]
  },
  {
   "cell_type": "code",
   "execution_count": 73,
   "id": "1a664c2b",
   "metadata": {},
   "outputs": [
    {
     "data": {
      "text/plain": [
       "13"
      ]
     },
     "execution_count": 73,
     "metadata": {},
     "output_type": "execute_result"
    }
   ],
   "source": [
    "unique_fruits = fruits.unique()\n",
    "unique_fruits.size\n"
   ]
  },
  {
   "cell_type": "code",
   "execution_count": 72,
   "id": "9e5bbe2d",
   "metadata": {},
   "outputs": [
    {
     "data": {
      "text/plain": [
       "['kiwi',\n",
       " 'mango',\n",
       " 'strawberry',\n",
       " 'pineapple',\n",
       " 'gala apple',\n",
       " 'honeycrisp apple',\n",
       " 'tomato',\n",
       " 'watermelon',\n",
       " 'honeydew',\n",
       " 'blueberry',\n",
       " 'blackberry',\n",
       " 'gooseberry',\n",
       " 'papaya']"
      ]
     },
     "execution_count": 72,
     "metadata": {},
     "output_type": "execute_result"
    }
   ],
   "source": [
    "unique_fruits.tolist()"
   ]
  },
  {
   "cell_type": "markdown",
   "id": "65b54d94",
   "metadata": {},
   "source": [
    "### Determine the string value that occurs most frequently in fruits."
   ]
  },
  {
   "cell_type": "code",
   "execution_count": 43,
   "id": "b442e428",
   "metadata": {},
   "outputs": [
    {
     "data": {
      "text/plain": [
       "kiwi    4\n",
       "dtype: int64"
      ]
     },
     "execution_count": 43,
     "metadata": {},
     "output_type": "execute_result"
    }
   ],
   "source": [
    "fruits.value_counts().head(1)"
   ]
  },
  {
   "cell_type": "code",
   "execution_count": 45,
   "id": "f9efce8c",
   "metadata": {},
   "outputs": [
    {
     "data": {
      "text/plain": [
       "<bound method Series.idxmax of kiwi                4\n",
       "mango               2\n",
       "gooseberry          1\n",
       "papaya              1\n",
       "pineapple           1\n",
       "blueberry           1\n",
       "honeydew            1\n",
       "tomato              1\n",
       "gala apple          1\n",
       "blackberry          1\n",
       "strawberry          1\n",
       "honeycrisp apple    1\n",
       "watermelon          1\n",
       "dtype: int64>"
      ]
     },
     "execution_count": 45,
     "metadata": {},
     "output_type": "execute_result"
    }
   ],
   "source": [
    "fruits.value_counts().idxmax"
   ]
  },
  {
   "cell_type": "code",
   "execution_count": 74,
   "id": "92115d33",
   "metadata": {},
   "outputs": [
    {
     "data": {
      "text/plain": [
       "kiwi    4\n",
       "dtype: int64"
      ]
     },
     "execution_count": 74,
     "metadata": {},
     "output_type": "execute_result"
    }
   ],
   "source": [
    "fruits.value_counts().nlargest(n=1,keep = \"all\")"
   ]
  },
  {
   "cell_type": "markdown",
   "id": "0f3a6b4b",
   "metadata": {},
   "source": [
    "### Determine the string value that occurs least frequently in fruits."
   ]
  },
  {
   "cell_type": "code",
   "execution_count": 47,
   "id": "9c8b454d",
   "metadata": {},
   "outputs": [
    {
     "data": {
      "text/plain": [
       "gooseberry          1\n",
       "papaya              1\n",
       "pineapple           1\n",
       "blueberry           1\n",
       "honeydew            1\n",
       "tomato              1\n",
       "gala apple          1\n",
       "blackberry          1\n",
       "strawberry          1\n",
       "honeycrisp apple    1\n",
       "watermelon          1\n",
       "mango               2\n",
       "kiwi                4\n",
       "dtype: int64"
      ]
     },
     "execution_count": 47,
     "metadata": {},
     "output_type": "execute_result"
    }
   ],
   "source": [
    "fruits.value_counts(ascending = True)"
   ]
  },
  {
   "cell_type": "code",
   "execution_count": 58,
   "id": "64133876",
   "metadata": {
    "scrolled": true
   },
   "outputs": [
    {
     "name": "stdout",
     "output_type": "stream",
     "text": [
      "gooseberry          1.0\n",
      "papaya              1.0\n",
      "pineapple           1.0\n",
      "blueberry           1.0\n",
      "honeydew            1.0\n",
      "tomato              1.0\n",
      "gala apple          1.0\n",
      "blackberry          1.0\n",
      "strawberry          1.0\n",
      "honeycrisp apple    1.0\n",
      "watermelon          1.0\n",
      "dtype: float64\n"
     ]
    }
   ],
   "source": [
    "counts = fruits.value_counts()\n",
    "min_count = counts.min()\n",
    "print(counts.where(counts == min_count).dropna())"
   ]
  },
  {
   "cell_type": "code",
   "execution_count": 67,
   "id": "7d948158",
   "metadata": {},
   "outputs": [
    {
     "data": {
      "text/plain": [
       "gooseberry          1\n",
       "papaya              1\n",
       "pineapple           1\n",
       "blueberry           1\n",
       "honeydew            1\n",
       "tomato              1\n",
       "gala apple          1\n",
       "blackberry          1\n",
       "strawberry          1\n",
       "honeycrisp apple    1\n",
       "watermelon          1\n",
       "dtype: int64"
      ]
     },
     "execution_count": 67,
     "metadata": {},
     "output_type": "execute_result"
    }
   ],
   "source": [
    "fruits.value_counts().nsmallest(n = 1,keep = \"all\")"
   ]
  },
  {
   "cell_type": "code",
   "execution_count": null,
   "id": "07399bdc",
   "metadata": {},
   "outputs": [],
   "source": []
  },
  {
   "cell_type": "code",
   "execution_count": null,
   "id": "1a625e2c",
   "metadata": {},
   "outputs": [],
   "source": []
  }
 ],
 "metadata": {
  "kernelspec": {
   "display_name": "Python 3",
   "language": "python",
   "name": "python3"
  },
  "language_info": {
   "codemirror_mode": {
    "name": "ipython",
    "version": 3
   },
   "file_extension": ".py",
   "mimetype": "text/x-python",
   "name": "python",
   "nbconvert_exporter": "python",
   "pygments_lexer": "ipython3",
   "version": "3.8.8"
  }
 },
 "nbformat": 4,
 "nbformat_minor": 5
}
