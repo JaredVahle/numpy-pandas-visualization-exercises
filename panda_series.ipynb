{
 "cells": [
  {
   "cell_type": "markdown",
   "id": "ea97c76e",
   "metadata": {},
   "source": [
    "# PART II"
   ]
  },
  {
   "cell_type": "code",
   "execution_count": 398,
   "id": "a712d582",
   "metadata": {},
   "outputs": [],
   "source": [
    "import pandas as pd\n",
    "import numpy as np\n",
    "import matplotlib.pyplot as plt"
   ]
  },
  {
   "cell_type": "code",
   "execution_count": 2,
   "id": "09a48614",
   "metadata": {},
   "outputs": [],
   "source": [
    "fruit =     [\"kiwi\", \"mango\", \"strawberry\", \"pineapple\", \"gala apple\", \"honeycrisp apple\", \"tomato\", \"watermelon\", \"honeydew\", \"kiwi\", \"kiwi\", \"kiwi\", \"mango\", \"blueberry\", \"blackberry\", \"gooseberry\", \"papaya\"]"
   ]
  },
  {
   "cell_type": "code",
   "execution_count": 3,
   "id": "52c5cf90",
   "metadata": {},
   "outputs": [
    {
     "data": {
      "text/plain": [
       "['kiwi',\n",
       " 'mango',\n",
       " 'strawberry',\n",
       " 'pineapple',\n",
       " 'gala apple',\n",
       " 'honeycrisp apple',\n",
       " 'tomato',\n",
       " 'watermelon',\n",
       " 'honeydew',\n",
       " 'kiwi',\n",
       " 'kiwi',\n",
       " 'kiwi',\n",
       " 'mango',\n",
       " 'blueberry',\n",
       " 'blackberry',\n",
       " 'gooseberry',\n",
       " 'papaya']"
      ]
     },
     "execution_count": 3,
     "metadata": {},
     "output_type": "execute_result"
    }
   ],
   "source": [
    "fruit"
   ]
  },
  {
   "cell_type": "code",
   "execution_count": 4,
   "id": "9ca0ae28",
   "metadata": {},
   "outputs": [],
   "source": [
    "fruits = pd.Series(fruit)"
   ]
  },
  {
   "cell_type": "code",
   "execution_count": 5,
   "id": "79bbb3b2",
   "metadata": {},
   "outputs": [
    {
     "data": {
      "text/plain": [
       "0                 kiwi\n",
       "1                mango\n",
       "2           strawberry\n",
       "3            pineapple\n",
       "4           gala apple\n",
       "5     honeycrisp apple\n",
       "6               tomato\n",
       "7           watermelon\n",
       "8             honeydew\n",
       "9                 kiwi\n",
       "10                kiwi\n",
       "11                kiwi\n",
       "12               mango\n",
       "13           blueberry\n",
       "14          blackberry\n",
       "15          gooseberry\n",
       "16              papaya\n",
       "dtype: object"
      ]
     },
     "execution_count": 5,
     "metadata": {},
     "output_type": "execute_result"
    }
   ],
   "source": [
    "fruits"
   ]
  },
  {
   "cell_type": "markdown",
   "id": "2f7a7083",
   "metadata": {},
   "source": [
    "### Determine the number of elements in fruits."
   ]
  },
  {
   "cell_type": "code",
   "execution_count": 10,
   "id": "f86ae474",
   "metadata": {},
   "outputs": [
    {
     "data": {
      "text/plain": [
       "17"
      ]
     },
     "execution_count": 10,
     "metadata": {},
     "output_type": "execute_result"
    }
   ],
   "source": [
    "fruits.size"
   ]
  },
  {
   "cell_type": "markdown",
   "id": "3912e3d8",
   "metadata": {},
   "source": [
    "### Output only the index from fruits."
   ]
  },
  {
   "cell_type": "code",
   "execution_count": 14,
   "id": "253a2d7d",
   "metadata": {},
   "outputs": [
    {
     "data": {
      "text/plain": [
       "RangeIndex(start=0, stop=17, step=1)"
      ]
     },
     "execution_count": 14,
     "metadata": {},
     "output_type": "execute_result"
    }
   ],
   "source": [
    "fruits.index"
   ]
  },
  {
   "cell_type": "code",
   "execution_count": 59,
   "id": "38eb9765",
   "metadata": {},
   "outputs": [
    {
     "data": {
      "text/plain": [
       "[0, 1, 2, 3, 4, 5, 6, 7, 8, 9, 10, 11, 12, 13, 14, 15, 16]"
      ]
     },
     "execution_count": 59,
     "metadata": {},
     "output_type": "execute_result"
    }
   ],
   "source": [
    "list(fruits.index)"
   ]
  },
  {
   "cell_type": "markdown",
   "id": "e132d03a",
   "metadata": {},
   "source": [
    "### Output only the values from fruits."
   ]
  },
  {
   "cell_type": "code",
   "execution_count": 15,
   "id": "22ee53f4",
   "metadata": {},
   "outputs": [
    {
     "data": {
      "text/plain": [
       "array(['kiwi', 'mango', 'strawberry', 'pineapple', 'gala apple',\n",
       "       'honeycrisp apple', 'tomato', 'watermelon', 'honeydew', 'kiwi',\n",
       "       'kiwi', 'kiwi', 'mango', 'blueberry', 'blackberry', 'gooseberry',\n",
       "       'papaya'], dtype=object)"
      ]
     },
     "execution_count": 15,
     "metadata": {},
     "output_type": "execute_result"
    }
   ],
   "source": [
    "fruits.values"
   ]
  },
  {
   "cell_type": "code",
   "execution_count": 69,
   "id": "0d3566a2",
   "metadata": {},
   "outputs": [
    {
     "data": {
      "text/plain": [
       "['kiwi',\n",
       " 'mango',\n",
       " 'strawberry',\n",
       " 'pineapple',\n",
       " 'gala apple',\n",
       " 'honeycrisp apple',\n",
       " 'tomato',\n",
       " 'watermelon',\n",
       " 'honeydew',\n",
       " 'kiwi',\n",
       " 'kiwi',\n",
       " 'kiwi',\n",
       " 'mango',\n",
       " 'blueberry',\n",
       " 'blackberry',\n",
       " 'gooseberry',\n",
       " 'papaya']"
      ]
     },
     "execution_count": 69,
     "metadata": {},
     "output_type": "execute_result"
    }
   ],
   "source": [
    "fruits.values.tolist()"
   ]
  },
  {
   "cell_type": "markdown",
   "id": "2fdec948",
   "metadata": {},
   "source": [
    "### Confirm the data type of the values in fruits."
   ]
  },
  {
   "cell_type": "code",
   "execution_count": 17,
   "id": "4a685338",
   "metadata": {},
   "outputs": [
    {
     "data": {
      "text/plain": [
       "dtype('O')"
      ]
     },
     "execution_count": 17,
     "metadata": {},
     "output_type": "execute_result"
    }
   ],
   "source": [
    "fruits.dtype"
   ]
  },
  {
   "cell_type": "markdown",
   "id": "73506519",
   "metadata": {},
   "source": [
    "### Output only the first five values from fruits. Output the last three values. Output two random values from fruits."
   ]
  },
  {
   "cell_type": "code",
   "execution_count": 18,
   "id": "1774df03",
   "metadata": {},
   "outputs": [
    {
     "data": {
      "text/plain": [
       "0          kiwi\n",
       "1         mango\n",
       "2    strawberry\n",
       "3     pineapple\n",
       "4    gala apple\n",
       "dtype: object"
      ]
     },
     "execution_count": 18,
     "metadata": {},
     "output_type": "execute_result"
    }
   ],
   "source": [
    "fruits.head(5)"
   ]
  },
  {
   "cell_type": "code",
   "execution_count": 19,
   "id": "9766301f",
   "metadata": {},
   "outputs": [
    {
     "data": {
      "text/plain": [
       "14    blackberry\n",
       "15    gooseberry\n",
       "16        papaya\n",
       "dtype: object"
      ]
     },
     "execution_count": 19,
     "metadata": {},
     "output_type": "execute_result"
    }
   ],
   "source": [
    "fruits.tail(3)"
   ]
  },
  {
   "cell_type": "code",
   "execution_count": 21,
   "id": "2b3415e9",
   "metadata": {},
   "outputs": [
    {
     "data": {
      "text/plain": [
       "0      kiwi\n",
       "12    mango\n",
       "dtype: object"
      ]
     },
     "execution_count": 21,
     "metadata": {},
     "output_type": "execute_result"
    }
   ],
   "source": [
    "fruits.sample(2)"
   ]
  },
  {
   "cell_type": "markdown",
   "id": "ab5104fd",
   "metadata": {},
   "source": [
    "### Run the .describe() on fruits to see what information it returns when called on a Series with string values."
   ]
  },
  {
   "cell_type": "code",
   "execution_count": 22,
   "id": "7f22d2bc",
   "metadata": {},
   "outputs": [
    {
     "data": {
      "text/plain": [
       "count       17\n",
       "unique      13\n",
       "top       kiwi\n",
       "freq         4\n",
       "dtype: object"
      ]
     },
     "execution_count": 22,
     "metadata": {},
     "output_type": "execute_result"
    }
   ],
   "source": [
    "fruits.describe()"
   ]
  },
  {
   "cell_type": "markdown",
   "id": "c266d822",
   "metadata": {},
   "source": [
    "### Run the code necessary to produce only the unique string values from fruits."
   ]
  },
  {
   "cell_type": "code",
   "execution_count": 32,
   "id": "63bf1c59",
   "metadata": {},
   "outputs": [
    {
     "data": {
      "text/plain": [
       "array(['kiwi', 'mango', 'strawberry', 'pineapple', 'gala apple',\n",
       "       'honeycrisp apple', 'tomato', 'watermelon', 'honeydew',\n",
       "       'blueberry', 'blackberry', 'gooseberry', 'papaya'], dtype=object)"
      ]
     },
     "execution_count": 32,
     "metadata": {},
     "output_type": "execute_result"
    }
   ],
   "source": [
    "pd.unique(fruits)"
   ]
  },
  {
   "cell_type": "markdown",
   "id": "9bc745f2",
   "metadata": {},
   "source": [
    "### Determine how many times each unique string value occurs in fruits."
   ]
  },
  {
   "cell_type": "code",
   "execution_count": 73,
   "id": "84473a30",
   "metadata": {},
   "outputs": [
    {
     "data": {
      "text/plain": [
       "13"
      ]
     },
     "execution_count": 73,
     "metadata": {},
     "output_type": "execute_result"
    }
   ],
   "source": [
    "unique_fruits = fruits.unique()\n",
    "unique_fruits.size\n"
   ]
  },
  {
   "cell_type": "code",
   "execution_count": 72,
   "id": "0484045d",
   "metadata": {},
   "outputs": [
    {
     "data": {
      "text/plain": [
       "['kiwi',\n",
       " 'mango',\n",
       " 'strawberry',\n",
       " 'pineapple',\n",
       " 'gala apple',\n",
       " 'honeycrisp apple',\n",
       " 'tomato',\n",
       " 'watermelon',\n",
       " 'honeydew',\n",
       " 'blueberry',\n",
       " 'blackberry',\n",
       " 'gooseberry',\n",
       " 'papaya']"
      ]
     },
     "execution_count": 72,
     "metadata": {},
     "output_type": "execute_result"
    }
   ],
   "source": [
    "unique_fruits.tolist()"
   ]
  },
  {
   "cell_type": "markdown",
   "id": "7bca3c30",
   "metadata": {},
   "source": [
    "### Determine the string value that occurs most frequently in fruits."
   ]
  },
  {
   "cell_type": "code",
   "execution_count": 43,
   "id": "86d523e3",
   "metadata": {},
   "outputs": [
    {
     "data": {
      "text/plain": [
       "kiwi    4\n",
       "dtype: int64"
      ]
     },
     "execution_count": 43,
     "metadata": {},
     "output_type": "execute_result"
    }
   ],
   "source": [
    "fruits.value_counts().head(1)"
   ]
  },
  {
   "cell_type": "code",
   "execution_count": 45,
   "id": "6d8985d9",
   "metadata": {},
   "outputs": [
    {
     "data": {
      "text/plain": [
       "<bound method Series.idxmax of kiwi                4\n",
       "mango               2\n",
       "gooseberry          1\n",
       "papaya              1\n",
       "pineapple           1\n",
       "blueberry           1\n",
       "honeydew            1\n",
       "tomato              1\n",
       "gala apple          1\n",
       "blackberry          1\n",
       "strawberry          1\n",
       "honeycrisp apple    1\n",
       "watermelon          1\n",
       "dtype: int64>"
      ]
     },
     "execution_count": 45,
     "metadata": {},
     "output_type": "execute_result"
    }
   ],
   "source": [
    "fruits.value_counts().idxmax"
   ]
  },
  {
   "cell_type": "code",
   "execution_count": 74,
   "id": "1a4e4f5d",
   "metadata": {},
   "outputs": [
    {
     "data": {
      "text/plain": [
       "kiwi    4\n",
       "dtype: int64"
      ]
     },
     "execution_count": 74,
     "metadata": {},
     "output_type": "execute_result"
    }
   ],
   "source": [
    "fruits.value_counts().nlargest(n=1,keep = \"all\")"
   ]
  },
  {
   "cell_type": "markdown",
   "id": "56eb3c25",
   "metadata": {},
   "source": [
    "### Determine the string value that occurs least frequently in fruits."
   ]
  },
  {
   "cell_type": "code",
   "execution_count": 47,
   "id": "36992ace",
   "metadata": {},
   "outputs": [
    {
     "data": {
      "text/plain": [
       "gooseberry          1\n",
       "papaya              1\n",
       "pineapple           1\n",
       "blueberry           1\n",
       "honeydew            1\n",
       "tomato              1\n",
       "gala apple          1\n",
       "blackberry          1\n",
       "strawberry          1\n",
       "honeycrisp apple    1\n",
       "watermelon          1\n",
       "mango               2\n",
       "kiwi                4\n",
       "dtype: int64"
      ]
     },
     "execution_count": 47,
     "metadata": {},
     "output_type": "execute_result"
    }
   ],
   "source": [
    "fruits.value_counts(ascending = True)"
   ]
  },
  {
   "cell_type": "code",
   "execution_count": 58,
   "id": "1fe63bd1",
   "metadata": {
    "scrolled": true
   },
   "outputs": [
    {
     "name": "stdout",
     "output_type": "stream",
     "text": [
      "gooseberry          1.0\n",
      "papaya              1.0\n",
      "pineapple           1.0\n",
      "blueberry           1.0\n",
      "honeydew            1.0\n",
      "tomato              1.0\n",
      "gala apple          1.0\n",
      "blackberry          1.0\n",
      "strawberry          1.0\n",
      "honeycrisp apple    1.0\n",
      "watermelon          1.0\n",
      "dtype: float64\n"
     ]
    }
   ],
   "source": [
    "counts = fruits.value_counts()\n",
    "min_count = counts.min()\n",
    "print(counts.where(counts == min_count).dropna())"
   ]
  },
  {
   "cell_type": "code",
   "execution_count": 67,
   "id": "3a560dc3",
   "metadata": {},
   "outputs": [
    {
     "data": {
      "text/plain": [
       "gooseberry          1\n",
       "papaya              1\n",
       "pineapple           1\n",
       "blueberry           1\n",
       "honeydew            1\n",
       "tomato              1\n",
       "gala apple          1\n",
       "blackberry          1\n",
       "strawberry          1\n",
       "honeycrisp apple    1\n",
       "watermelon          1\n",
       "dtype: int64"
      ]
     },
     "execution_count": 67,
     "metadata": {},
     "output_type": "execute_result"
    }
   ],
   "source": [
    "fruits.value_counts().nsmallest(n = 1,keep = \"all\")"
   ]
  },
  {
   "cell_type": "code",
   "execution_count": 77,
   "id": "4918f201",
   "metadata": {},
   "outputs": [],
   "source": [
    "#### notes colors_series.apply(lambda row: row:count(\"r\"))\n",
    "#### colors_series.str.count(\"r\")\n",
    "\n",
    "#### def red_or_not(string):\n",
    "####    if string.lower() == \"red\":\n",
    "####       return \"red\"\n",
    "####     else:\n",
    "####       return \"not_red\"\n",
    "#### colors_series.apply(red_or_not)"
   ]
  },
  {
   "cell_type": "code",
   "execution_count": null,
   "id": "f308a609",
   "metadata": {},
   "outputs": [],
   "source": []
  },
  {
   "cell_type": "markdown",
   "id": "9d5bf506",
   "metadata": {},
   "source": [
    "# PART II"
   ]
  },
  {
   "cell_type": "markdown",
   "id": "92dec358",
   "metadata": {},
   "source": [
    "### Capitalize all the string values in fruits."
   ]
  },
  {
   "cell_type": "code",
   "execution_count": 79,
   "id": "8bfab62e",
   "metadata": {},
   "outputs": [
    {
     "data": {
      "text/plain": [
       "0                 kiwi\n",
       "1                mango\n",
       "2           strawberry\n",
       "3            pineapple\n",
       "4           gala apple\n",
       "5     honeycrisp apple\n",
       "6               tomato\n",
       "7           watermelon\n",
       "8             honeydew\n",
       "9                 kiwi\n",
       "10                kiwi\n",
       "11                kiwi\n",
       "12               mango\n",
       "13           blueberry\n",
       "14          blackberry\n",
       "15          gooseberry\n",
       "16              papaya\n",
       "dtype: object"
      ]
     },
     "execution_count": 79,
     "metadata": {},
     "output_type": "execute_result"
    }
   ],
   "source": [
    "fruits"
   ]
  },
  {
   "cell_type": "code",
   "execution_count": 78,
   "id": "2a93361f",
   "metadata": {},
   "outputs": [
    {
     "data": {
      "text/plain": [
       "0                 Kiwi\n",
       "1                Mango\n",
       "2           Strawberry\n",
       "3            Pineapple\n",
       "4           Gala apple\n",
       "5     Honeycrisp apple\n",
       "6               Tomato\n",
       "7           Watermelon\n",
       "8             Honeydew\n",
       "9                 Kiwi\n",
       "10                Kiwi\n",
       "11                Kiwi\n",
       "12               Mango\n",
       "13           Blueberry\n",
       "14          Blackberry\n",
       "15          Gooseberry\n",
       "16              Papaya\n",
       "dtype: object"
      ]
     },
     "execution_count": 78,
     "metadata": {},
     "output_type": "execute_result"
    }
   ],
   "source": [
    "fruits.str.capitalize()"
   ]
  },
  {
   "cell_type": "markdown",
   "id": "c70037e7",
   "metadata": {},
   "source": [
    "### Count the letter \"a\" in all the string values (use string vectorization)."
   ]
  },
  {
   "cell_type": "code",
   "execution_count": 179,
   "id": "6f197057",
   "metadata": {},
   "outputs": [
    {
     "data": {
      "text/plain": [
       "0     0\n",
       "1     1\n",
       "2     1\n",
       "3     1\n",
       "4     3\n",
       "5     1\n",
       "6     1\n",
       "7     1\n",
       "8     0\n",
       "9     0\n",
       "10    0\n",
       "11    0\n",
       "12    1\n",
       "13    0\n",
       "14    1\n",
       "15    0\n",
       "16    3\n",
       "dtype: int64"
      ]
     },
     "execution_count": 179,
     "metadata": {},
     "output_type": "execute_result"
    }
   ],
   "source": [
    "fruits.apply(lambda row: row.count(\"a\"))"
   ]
  },
  {
   "cell_type": "code",
   "execution_count": 180,
   "id": "ed553ce4",
   "metadata": {},
   "outputs": [
    {
     "data": {
      "text/plain": [
       "14"
      ]
     },
     "execution_count": 180,
     "metadata": {},
     "output_type": "execute_result"
    }
   ],
   "source": [
    "fruits.apply(lambda row: row.count(\"a\")).sum()"
   ]
  },
  {
   "cell_type": "markdown",
   "id": "95c30a6c",
   "metadata": {},
   "source": [
    "### Output the number of vowels in each and every string value."
   ]
  },
  {
   "cell_type": "code",
   "execution_count": 181,
   "id": "c1bef6f9",
   "metadata": {},
   "outputs": [
    {
     "data": {
      "text/plain": [
       "0     2\n",
       "1     2\n",
       "2     2\n",
       "3     4\n",
       "4     4\n",
       "5     5\n",
       "6     3\n",
       "7     4\n",
       "8     3\n",
       "9     2\n",
       "10    2\n",
       "11    2\n",
       "12    2\n",
       "13    3\n",
       "14    2\n",
       "15    4\n",
       "16    3\n",
       "dtype: int64"
      ]
     },
     "execution_count": 181,
     "metadata": {},
     "output_type": "execute_result"
    }
   ],
   "source": [
    "def count_vowel(fruits):\n",
    "    for fruit in fruits:\n",
    "        count = 0\n",
    "        for letter in fruits:\n",
    "            if letter == \"a\" or letter == \"e\" or letter == \"i\" or letter == \"o\" or letter == \"u\":\n",
    "                count += 1\n",
    "    return count\n",
    "fruits.apply(count_vowel)"
   ]
  },
  {
   "cell_type": "code",
   "execution_count": 183,
   "id": "5711d4e9",
   "metadata": {},
   "outputs": [
    {
     "data": {
      "text/plain": [
       "0     2\n",
       "1     2\n",
       "2     2\n",
       "3     4\n",
       "4     4\n",
       "5     5\n",
       "6     3\n",
       "7     4\n",
       "8     3\n",
       "9     2\n",
       "10    2\n",
       "11    2\n",
       "12    2\n",
       "13    3\n",
       "14    2\n",
       "15    4\n",
       "16    3\n",
       "dtype: int64"
      ]
     },
     "execution_count": 183,
     "metadata": {},
     "output_type": "execute_result"
    }
   ],
   "source": [
    "vowels = \"aeiou\"\n",
    "fruits.apply(count_vowel)"
   ]
  },
  {
   "cell_type": "code",
   "execution_count": null,
   "id": "cdc7d0c4",
   "metadata": {},
   "outputs": [],
   "source": []
  },
  {
   "cell_type": "markdown",
   "id": "2c85d26d",
   "metadata": {},
   "source": [
    "### Write the code to get the longest string value from fruits."
   ]
  },
  {
   "cell_type": "code",
   "execution_count": 194,
   "id": "e8dad54c",
   "metadata": {},
   "outputs": [
    {
     "data": {
      "text/plain": [
       "5    honeycrisp apple\n",
       "dtype: object"
      ]
     },
     "execution_count": 194,
     "metadata": {},
     "output_type": "execute_result"
    }
   ],
   "source": [
    "mask = fruits.apply(lambda row: len(row))\n",
    "fruits[mask == mask.max()]"
   ]
  },
  {
   "cell_type": "code",
   "execution_count": 188,
   "id": "a65f7160",
   "metadata": {},
   "outputs": [
    {
     "data": {
      "text/plain": [
       "'honeycrisp apple'"
      ]
     },
     "execution_count": 188,
     "metadata": {},
     "output_type": "execute_result"
    }
   ],
   "source": [
    "max(fruits, key= len)"
   ]
  },
  {
   "cell_type": "markdown",
   "id": "60924497",
   "metadata": {},
   "source": [
    "### Write the code to get the string values with 5 or more letters in the name."
   ]
  },
  {
   "cell_type": "code",
   "execution_count": 158,
   "id": "9539c9f3",
   "metadata": {},
   "outputs": [
    {
     "data": {
      "text/plain": [
       "1                mango\n",
       "2           strawberry\n",
       "3            pineapple\n",
       "4           gala apple\n",
       "5     honeycrisp apple\n",
       "6               tomato\n",
       "7           watermelon\n",
       "8             honeydew\n",
       "12               mango\n",
       "13           blueberry\n",
       "14          blackberry\n",
       "15          gooseberry\n",
       "16              papaya\n",
       "dtype: object"
      ]
     },
     "execution_count": 158,
     "metadata": {},
     "output_type": "execute_result"
    }
   ],
   "source": [
    "len_fruits = fruits.apply(lambda row: len(row))\n",
    "fruits[len_fruits >= 5]"
   ]
  },
  {
   "cell_type": "markdown",
   "id": "1cafc8c5",
   "metadata": {},
   "source": [
    "### Use the .apply method with a lambda function to find the fruit(s) containing the letter \"o\" two or more times."
   ]
  },
  {
   "cell_type": "code",
   "execution_count": 167,
   "id": "274b7201",
   "metadata": {},
   "outputs": [
    {
     "data": {
      "text/plain": [
       "6         tomato\n",
       "15    gooseberry\n",
       "dtype: object"
      ]
     },
     "execution_count": 167,
     "metadata": {},
     "output_type": "execute_result"
    }
   ],
   "source": [
    "mask = fruits.apply(lambda row: (row.count(\"o\")) >= 2)\n",
    "fruits[mask == True]"
   ]
  },
  {
   "cell_type": "markdown",
   "id": "aad6bc6b",
   "metadata": {},
   "source": [
    "### Write the code to get only the string values containing the substring \"berry\"."
   ]
  },
  {
   "cell_type": "code",
   "execution_count": 169,
   "id": "6ea4ad07",
   "metadata": {},
   "outputs": [
    {
     "data": {
      "text/plain": [
       "2     strawberry\n",
       "13     blueberry\n",
       "14    blackberry\n",
       "15    gooseberry\n",
       "dtype: object"
      ]
     },
     "execution_count": 169,
     "metadata": {},
     "output_type": "execute_result"
    }
   ],
   "source": [
    "mask = fruits.apply(lambda row: \"berry\" in row)\n",
    "fruits[mask == True]"
   ]
  },
  {
   "cell_type": "markdown",
   "id": "5600448e",
   "metadata": {},
   "source": [
    "### Write the code to get only the string values containing the substring \"apple\"."
   ]
  },
  {
   "cell_type": "code",
   "execution_count": 172,
   "id": "94361b9a",
   "metadata": {},
   "outputs": [
    {
     "data": {
      "text/plain": [
       "3           pineapple\n",
       "4          gala apple\n",
       "5    honeycrisp apple\n",
       "dtype: object"
      ]
     },
     "execution_count": 172,
     "metadata": {},
     "output_type": "execute_result"
    }
   ],
   "source": [
    "mask = fruits.apply(lambda row: \"apple\" in row)\n",
    "fruits[mask == True]"
   ]
  },
  {
   "cell_type": "markdown",
   "id": "67029bd4",
   "metadata": {},
   "source": [
    "### Which string value contains the most vowels?"
   ]
  },
  {
   "cell_type": "code",
   "execution_count": 177,
   "id": "e6569a52",
   "metadata": {},
   "outputs": [
    {
     "data": {
      "text/plain": [
       "5    honeycrisp apple\n",
       "dtype: object"
      ]
     },
     "execution_count": 177,
     "metadata": {},
     "output_type": "execute_result"
    }
   ],
   "source": [
    "vowel_count = fruits.str.count(r\"[aeiou]\")\n",
    "fruits[vowel_count == max(vowel_count)]"
   ]
  },
  {
   "cell_type": "markdown",
   "id": "4c7c1a3b",
   "metadata": {},
   "source": [
    "# PART III"
   ]
  },
  {
   "cell_type": "markdown",
   "id": "3cf2ecbb",
   "metadata": {},
   "source": [
    "Use pandas to create a Series named letters from the following string:\n",
    "    'hnvidduckkqxwymbimkccexbkmqygkxoyndmcxnwqarhyffsjpsrabtjzsypmzadfavyrnndndvswreauxovncxtwzpwejilzjrmmbbgbyxvjtewqthafnbkqplarokkyydtubbmnexoypulzwfhqvckdpqtpoppzqrmcvhhpwgjwupgzhiofohawytlsiyecuproguy'"
   ]
  },
  {
   "cell_type": "code",
   "execution_count": 230,
   "id": "0f46b63d",
   "metadata": {},
   "outputs": [],
   "source": [
    "letters = 'hnvidduckkqxwymbimkccexbkmqygkxoyndmcxnwqarhyffsjpsrabtjzsypmzadfavyrnndndvswreauxovncxtwzpwejilzjrmmbbgbyxvjtewqthafnbkqplarokkyydtubbmnexoypulzwfhqvckdpqtpoppzqrmcvhhpwgjwupgzhiofohawytlsiyecuproguy'\n",
    "letters = list(letters)\n",
    "letters\n",
    "letters = pd.Series(letters)"
   ]
  },
  {
   "cell_type": "markdown",
   "id": "a562abfd",
   "metadata": {},
   "source": [
    "### Which letter occurs the most frequently in the letters Series?"
   ]
  },
  {
   "cell_type": "code",
   "execution_count": 233,
   "id": "170eb8e3",
   "metadata": {},
   "outputs": [
    {
     "data": {
      "text/plain": [
       "0      h\n",
       "1      n\n",
       "2      v\n",
       "3      i\n",
       "4      d\n",
       "      ..\n",
       "195    r\n",
       "196    o\n",
       "197    g\n",
       "198    u\n",
       "199    y\n",
       "Length: 200, dtype: object"
      ]
     },
     "execution_count": 233,
     "metadata": {},
     "output_type": "execute_result"
    }
   ],
   "source": [
    "letters"
   ]
  },
  {
   "cell_type": "code",
   "execution_count": 309,
   "id": "5dd4c768",
   "metadata": {},
   "outputs": [
    {
     "data": {
      "text/plain": [
       "y    13\n",
       "p    12\n",
       "w    10\n",
       "k     9\n",
       "n     9\n",
       "m     9\n",
       "dtype: int64"
      ]
     },
     "execution_count": 309,
     "metadata": {},
     "output_type": "execute_result"
    }
   ],
   "source": [
    "grouped_letters = letters.value_counts()\n",
    "grouped_letters[grouped_letters == max(grouped_letters)]\n",
    "grouped_letters.head(6)"
   ]
  },
  {
   "cell_type": "markdown",
   "id": "e6905591",
   "metadata": {},
   "source": [
    "### Which letter occurs the Least frequently?"
   ]
  },
  {
   "cell_type": "code",
   "execution_count": 281,
   "id": "60daf5a8",
   "metadata": {},
   "outputs": [
    {
     "data": {
      "text/plain": [
       "l    4\n",
       "dtype: int64"
      ]
     },
     "execution_count": 281,
     "metadata": {},
     "output_type": "execute_result"
    }
   ],
   "source": [
    "grouped_letters[grouped_letters == min(grouped_letters)]"
   ]
  },
  {
   "cell_type": "markdown",
   "id": "35b82ca4",
   "metadata": {},
   "source": [
    "### How many vowels are in the Series?"
   ]
  },
  {
   "cell_type": "code",
   "execution_count": 294,
   "id": "3350aa3c",
   "metadata": {},
   "outputs": [
    {
     "data": {
      "text/plain": [
       "34"
      ]
     },
     "execution_count": 294,
     "metadata": {},
     "output_type": "execute_result"
    }
   ],
   "source": [
    "letters[letters.str.contains('[aeiou]')].size"
   ]
  },
  {
   "cell_type": "markdown",
   "id": "af9e5a18",
   "metadata": {},
   "source": [
    "### How many consonants are in the Series?"
   ]
  },
  {
   "cell_type": "code",
   "execution_count": 296,
   "id": "f6ed4218",
   "metadata": {},
   "outputs": [
    {
     "data": {
      "text/plain": [
       "166"
      ]
     },
     "execution_count": 296,
     "metadata": {},
     "output_type": "execute_result"
    }
   ],
   "source": [
    "letters[letters.str.contains('[bcdfghjklmnpqrstvwxyz]')].size"
   ]
  },
  {
   "cell_type": "markdown",
   "id": "e3d3331c",
   "metadata": {},
   "source": [
    "### Create a Series that has all of the same letters but uppercased."
   ]
  },
  {
   "cell_type": "code",
   "execution_count": 301,
   "id": "438ced08",
   "metadata": {},
   "outputs": [
    {
     "data": {
      "text/plain": [
       "0      H\n",
       "1      N\n",
       "2      V\n",
       "3      I\n",
       "4      D\n",
       "      ..\n",
       "195    R\n",
       "196    O\n",
       "197    G\n",
       "198    U\n",
       "199    Y\n",
       "Length: 200, dtype: object"
      ]
     },
     "execution_count": 301,
     "metadata": {},
     "output_type": "execute_result"
    }
   ],
   "source": [
    "letters.str.upper()"
   ]
  },
  {
   "cell_type": "markdown",
   "id": "8aeaf73f",
   "metadata": {},
   "source": [
    "### Create a bar plot of the frequencies of the 6 most commonly occuring letters."
   ]
  },
  {
   "cell_type": "code",
   "execution_count": 317,
   "id": "0814ec8b",
   "metadata": {},
   "outputs": [
    {
     "data": {
      "text/plain": [
       "<AxesSubplot:>"
      ]
     },
     "execution_count": 317,
     "metadata": {},
     "output_type": "execute_result"
    },
    {
     "data": {
      "image/png": "[encoded data removed]",
      "text/plain": [
       "<Figure size 432x288 with 1 Axes>"
      ]
     },
     "metadata": {
      "needs_background": "light"
     },
     "output_type": "display_data"
    }
   ],
   "source": [
    "grouped_letters.head(6).plot(kind = \"barh\")\n"
   ]
  },
  {
   "cell_type": "markdown",
   "id": "e207475c",
   "metadata": {},
   "source": [
    "## Use pandas to create a Series named numbers from the following list:"
   ]
  },
  {
   "cell_type": "markdown",
   "id": "f477c60f",
   "metadata": {},
   "source": [
    "    ['$796,459.41', '$278.60', '$482,571.67', '$4,503,915.98', '$2,121,418.3', '$1,260,813.3', '$87,231.01', '$1,509,175.45', '$4,138,548.00', '$2,848,913.80', '$594,715.39', '$4,789,988.17', '$4,513,644.5', '$3,191,059.97', '$1,758,712.24', '$4,338,283.54', '$4,738,303.38', '$2,791,759.67', '$769,681.94', '$452,650.23']"
   ]
  },
  {
   "cell_type": "code",
   "execution_count": 355,
   "id": "80b43ef5",
   "metadata": {},
   "outputs": [],
   "source": [
    "numbers = ['$796,459.41', '$278.60', '$482,571.67', '$4,503,915.98', '$2,121,418.3', '$1,260,813.3', '$87,231.01', '$1,509,175.45', '$4,138,548.00', '$2,848,913.80', '$594,715.39', '$4,789,988.17', '$4,513,644.5', '$3,191,059.97', '$1,758,712.24', '$4,338,283.54', '$4,738,303.38', '$2,791,759.67', '$769,681.94', '$452,650.23']"
   ]
  },
  {
   "cell_type": "code",
   "execution_count": 356,
   "id": "5a8de456",
   "metadata": {},
   "outputs": [],
   "source": [
    "numbers = pd.Series(numbers)"
   ]
  },
  {
   "cell_type": "markdown",
   "id": "e844b730",
   "metadata": {},
   "source": [
    "### What is the data type of the numbers Series?"
   ]
  },
  {
   "cell_type": "code",
   "execution_count": 357,
   "id": "ed3dba87",
   "metadata": {},
   "outputs": [
    {
     "data": {
      "text/plain": [
       "count                20\n",
       "unique               20\n",
       "top       $4,789,988.17\n",
       "freq                  1\n",
       "dtype: object"
      ]
     },
     "execution_count": 357,
     "metadata": {},
     "output_type": "execute_result"
    }
   ],
   "source": [
    "numbers.describe()"
   ]
  },
  {
   "cell_type": "code",
   "execution_count": 358,
   "id": "1c921ae8",
   "metadata": {},
   "outputs": [
    {
     "data": {
      "text/plain": [
       "dtype('O')"
      ]
     },
     "execution_count": 358,
     "metadata": {},
     "output_type": "execute_result"
    }
   ],
   "source": [
    "numbers.dtypes"
   ]
  },
  {
   "cell_type": "markdown",
   "id": "5af9aa92",
   "metadata": {},
   "source": [
    "### How many elements are in the number Series?"
   ]
  },
  {
   "cell_type": "code",
   "execution_count": 359,
   "id": "176c3eb4",
   "metadata": {},
   "outputs": [
    {
     "data": {
      "text/plain": [
       "20"
      ]
     },
     "execution_count": 359,
     "metadata": {},
     "output_type": "execute_result"
    }
   ],
   "source": [
    "numbers.size"
   ]
  },
  {
   "cell_type": "markdown",
   "id": "17b3b567",
   "metadata": {},
   "source": [
    "### Perform the necessary manipulations by accessing Series attributes and methods to convert the numbers Series to a numeric data type."
   ]
  },
  {
   "cell_type": "code",
   "execution_count": 360,
   "id": "44396213",
   "metadata": {},
   "outputs": [],
   "source": [
    "numbers = numbers[numbers.index[1:]].replace('[\\$,]', '', regex=True).astype(float)"
   ]
  },
  {
   "cell_type": "code",
   "execution_count": 361,
   "id": "106108fa",
   "metadata": {},
   "outputs": [
    {
     "data": {
      "text/plain": [
       "1         278.60\n",
       "2      482571.67\n",
       "3     4503915.98\n",
       "4     2121418.30\n",
       "5     1260813.30\n",
       "6       87231.01\n",
       "7     1509175.45\n",
       "8     4138548.00\n",
       "9     2848913.80\n",
       "10     594715.39\n",
       "11    4789988.17\n",
       "12    4513644.50\n",
       "13    3191059.97\n",
       "14    1758712.24\n",
       "15    4338283.54\n",
       "16    4738303.38\n",
       "17    2791759.67\n",
       "18     769681.94\n",
       "19     452650.23\n",
       "dtype: float64"
      ]
     },
     "execution_count": 361,
     "metadata": {},
     "output_type": "execute_result"
    }
   ],
   "source": [
    "numbers"
   ]
  },
  {
   "cell_type": "markdown",
   "id": "3e8181dd",
   "metadata": {},
   "source": [
    "### Run the code to discover the maximum value from the Series."
   ]
  },
  {
   "cell_type": "code",
   "execution_count": 362,
   "id": "f061b2fb",
   "metadata": {},
   "outputs": [
    {
     "data": {
      "text/plain": [
       "4789988.17"
      ]
     },
     "execution_count": 362,
     "metadata": {},
     "output_type": "execute_result"
    }
   ],
   "source": [
    "max(numbers)"
   ]
  },
  {
   "cell_type": "code",
   "execution_count": 363,
   "id": "b173c802",
   "metadata": {},
   "outputs": [
    {
     "data": {
      "text/plain": [
       "count    1.900000e+01\n",
       "mean     2.362719e+06\n",
       "std      1.746122e+06\n",
       "min      2.786000e+02\n",
       "25%      6.821987e+05\n",
       "50%      2.121418e+06\n",
       "75%      4.238416e+06\n",
       "max      4.789988e+06\n",
       "dtype: float64"
      ]
     },
     "execution_count": 363,
     "metadata": {},
     "output_type": "execute_result"
    }
   ],
   "source": [
    "numbers.describe()"
   ]
  },
  {
   "cell_type": "markdown",
   "id": "16bc0050",
   "metadata": {},
   "source": [
    "### Run the code to discover the minimum value from the Series."
   ]
  },
  {
   "cell_type": "code",
   "execution_count": 364,
   "id": "fc6ec93a",
   "metadata": {},
   "outputs": [
    {
     "data": {
      "text/plain": [
       "278.6"
      ]
     },
     "execution_count": 364,
     "metadata": {},
     "output_type": "execute_result"
    }
   ],
   "source": [
    "min(numbers)"
   ]
  },
  {
   "cell_type": "markdown",
   "id": "cb1d8c17",
   "metadata": {},
   "source": [
    "### What is the range of the values in the Series?"
   ]
  },
  {
   "cell_type": "code",
   "execution_count": 365,
   "id": "af5a80ec",
   "metadata": {},
   "outputs": [],
   "source": [
    "#range(int(max(numbers),int(min(numbers))))"
   ]
  },
  {
   "cell_type": "code",
   "execution_count": 366,
   "id": "04762d9a",
   "metadata": {},
   "outputs": [],
   "source": [
    "range_numbers = max(numbers) - min(numbers)"
   ]
  },
  {
   "cell_type": "code",
   "execution_count": 367,
   "id": "6e2dac77",
   "metadata": {},
   "outputs": [
    {
     "data": {
      "text/plain": [
       "4789709.57"
      ]
     },
     "execution_count": 367,
     "metadata": {},
     "output_type": "execute_result"
    }
   ],
   "source": [
    "range_numbers"
   ]
  },
  {
   "cell_type": "markdown",
   "id": "358ff22f",
   "metadata": {},
   "source": [
    "### Bin the data into 4 equally sized intervals or bins and output how many values fall into each bin."
   ]
  },
  {
   "cell_type": "code",
   "execution_count": 377,
   "id": "6821f35c",
   "metadata": {},
   "outputs": [
    {
     "data": {
      "text/plain": [
       "1       (-4511.111, 1197705.993]\n",
       "2       (-4511.111, 1197705.993]\n",
       "3      (3592560.778, 4789988.17]\n",
       "4     (1197705.993, 2395133.385]\n",
       "5     (1197705.993, 2395133.385]\n",
       "6       (-4511.111, 1197705.993]\n",
       "7     (1197705.993, 2395133.385]\n",
       "8      (3592560.778, 4789988.17]\n",
       "9     (2395133.385, 3592560.778]\n",
       "10      (-4511.111, 1197705.993]\n",
       "11     (3592560.778, 4789988.17]\n",
       "12     (3592560.778, 4789988.17]\n",
       "13    (2395133.385, 3592560.778]\n",
       "14    (1197705.993, 2395133.385]\n",
       "15     (3592560.778, 4789988.17]\n",
       "16     (3592560.778, 4789988.17]\n",
       "17    (2395133.385, 3592560.778]\n",
       "18      (-4511.111, 1197705.993]\n",
       "19      (-4511.111, 1197705.993]\n",
       "dtype: category\n",
       "Categories (4, interval[float64]): [(-4511.111, 1197705.993] < (1197705.993, 2395133.385] < (2395133.385, 3592560.778] < (3592560.778, 4789988.17]]"
      ]
     },
     "execution_count": 377,
     "metadata": {},
     "output_type": "execute_result"
    }
   ],
   "source": [
    "binned_data = pd.cut(numbers,4,include_lowest=True)\n",
    "binned_data"
   ]
  },
  {
   "cell_type": "markdown",
   "id": "780c035e",
   "metadata": {},
   "source": [
    "### Plot the binned data in a meaningful way. Be sure to include a title and axis labels."
   ]
  },
  {
   "cell_type": "code",
   "execution_count": 420,
   "id": "95ca5338",
   "metadata": {},
   "outputs": [
    {
     "data": {
      "image/png": "[encoded data removed]",
      "text/plain": [
       "<Figure size 432x288 with 1 Axes>"
      ]
     },
     "metadata": {
      "needs_background": "light"
     },
     "output_type": "display_data"
    }
   ],
   "source": [
    "numbers.value_counts(bins = 4).sort_index(ascending = False).plot(kind=\"barh\", color = \"red\", width = .8)\n",
    "\n",
    "plt.title (\"some binned data\")\n",
    "plt.xlabel (\"count\")\n",
    "plt.ylabel (\"money $\")\n",
    "plt.show()"
   ]
  },
  {
   "cell_type": "markdown",
   "id": "45153fdc",
   "metadata": {},
   "source": [
    "### Use pandas to create a Series named exam_scores from the following list:"
   ]
  },
  {
   "cell_type": "markdown",
   "id": "c84df626",
   "metadata": {},
   "source": [
    "    [60, 86, 75, 62, 93, 71, 60, 83, 95, 78, 65, 72, 69, 81, 96, 80, 85, 92, 82, 78]"
   ]
  },
  {
   "cell_type": "code",
   "execution_count": 332,
   "id": "035f6bc8",
   "metadata": {},
   "outputs": [],
   "source": [
    "exam_scores = [60, 86, 75, 62, 93, 71, 60, 83, 95, 78, 65, 72, 69, 81, 96, 80, 85, 92, 82, 78]"
   ]
  },
  {
   "cell_type": "code",
   "execution_count": 406,
   "id": "b4b6a4fc",
   "metadata": {},
   "outputs": [],
   "source": [
    "exam_scores = pd.Series(exam_scores)"
   ]
  },
  {
   "cell_type": "code",
   "execution_count": 407,
   "id": "f7d595d0",
   "metadata": {},
   "outputs": [
    {
     "data": {
      "text/plain": [
       "0     60\n",
       "1     86\n",
       "2     75\n",
       "3     62\n",
       "4     93\n",
       "5     71\n",
       "6     60\n",
       "7     83\n",
       "8     95\n",
       "9     78\n",
       "10    65\n",
       "11    72\n",
       "12    69\n",
       "13    81\n",
       "14    96\n",
       "15    80\n",
       "16    85\n",
       "17    92\n",
       "18    82\n",
       "19    78\n",
       "dtype: int64"
      ]
     },
     "execution_count": 407,
     "metadata": {},
     "output_type": "execute_result"
    }
   ],
   "source": [
    "exam_scores"
   ]
  },
  {
   "cell_type": "markdown",
   "id": "987fa1f0",
   "metadata": {},
   "source": [
    "### How many elements are in the exam_scores Series?"
   ]
  },
  {
   "cell_type": "code",
   "execution_count": 408,
   "id": "8e141a45",
   "metadata": {},
   "outputs": [
    {
     "data": {
      "text/plain": [
       "20"
      ]
     },
     "execution_count": 408,
     "metadata": {},
     "output_type": "execute_result"
    }
   ],
   "source": [
    "len(exam_scores)"
   ]
  },
  {
   "cell_type": "code",
   "execution_count": 410,
   "id": "8c304db7",
   "metadata": {},
   "outputs": [
    {
     "data": {
      "text/plain": [
       "count    20.000000\n",
       "mean     78.150000\n",
       "std      11.352139\n",
       "min      60.000000\n",
       "25%      70.500000\n",
       "50%      79.000000\n",
       "75%      85.250000\n",
       "max      96.000000\n",
       "dtype: float64"
      ]
     },
     "execution_count": 410,
     "metadata": {},
     "output_type": "execute_result"
    }
   ],
   "source": [
    "exam_scores.describe()"
   ]
  },
  {
   "cell_type": "markdown",
   "id": "04f66720",
   "metadata": {},
   "source": [
    "### Run the code to discover the minimum, the maximum, the mean, and the median scores for the exam_scores Series."
   ]
  },
  {
   "cell_type": "code",
   "execution_count": 411,
   "id": "f152b35d",
   "metadata": {},
   "outputs": [
    {
     "data": {
      "text/plain": [
       "60"
      ]
     },
     "execution_count": 411,
     "metadata": {},
     "output_type": "execute_result"
    }
   ],
   "source": [
    "min(exam_scores)"
   ]
  },
  {
   "cell_type": "code",
   "execution_count": 412,
   "id": "f70fbf2b",
   "metadata": {},
   "outputs": [
    {
     "data": {
      "text/plain": [
       "96"
      ]
     },
     "execution_count": 412,
     "metadata": {},
     "output_type": "execute_result"
    }
   ],
   "source": [
    "max(exam_scores)"
   ]
  },
  {
   "cell_type": "code",
   "execution_count": 415,
   "id": "29cbb5e9",
   "metadata": {},
   "outputs": [
    {
     "data": {
      "text/plain": [
       "79.0"
      ]
     },
     "execution_count": 415,
     "metadata": {},
     "output_type": "execute_result"
    }
   ],
   "source": [
    "exam_scores.median()"
   ]
  },
  {
   "cell_type": "code",
   "execution_count": 417,
   "id": "5f15cd31",
   "metadata": {},
   "outputs": [
    {
     "data": {
      "text/plain": [
       "78.15"
      ]
     },
     "execution_count": 417,
     "metadata": {},
     "output_type": "execute_result"
    }
   ],
   "source": [
    "exam_scores.mean()"
   ]
  },
  {
   "cell_type": "markdown",
   "id": "6a23b05c",
   "metadata": {},
   "source": [
    "### Plot the Series in a meaningful way and make sure your chart has a title and axis labels."
   ]
  },
  {
   "cell_type": "code",
   "execution_count": 431,
   "id": "f535b91b",
   "metadata": {},
   "outputs": [
    {
     "data": {
      "image/png": "[encoded data removed]",
      "text/plain": [
       "<Figure size 432x288 with 1 Axes>"
      ]
     },
     "metadata": {
      "needs_background": "light"
     },
     "output_type": "display_data"
    }
   ],
   "source": [
    "exam_scores.plot.hist(color = \"red\")\n",
    "plt.title(\"Exam Scores\")\n",
    "plt.xlabel(\"Scores\")\n",
    "plt.ylabel(\"students\")\n",
    "plt.show()"
   ]
  },
  {
   "cell_type": "markdown",
   "id": "3fb98951",
   "metadata": {},
   "source": [
    "### Write the code necessary to implement a curve for your exam_grades Series and save this as curved_grades. Add the necessary points to the highest grade to make it 100, and add the same number of points to every other score in the Series as well."
   ]
  },
  {
   "cell_type": "code",
   "execution_count": 433,
   "id": "588d6a29",
   "metadata": {},
   "outputs": [
    {
     "data": {
      "text/plain": [
       "4"
      ]
     },
     "execution_count": 433,
     "metadata": {},
     "output_type": "execute_result"
    }
   ],
   "source": [
    "grade_curve = 100 - max(exam_scores)\n",
    "grade_curve"
   ]
  },
  {
   "cell_type": "code",
   "execution_count": 434,
   "id": "f5fefd39",
   "metadata": {},
   "outputs": [],
   "source": [
    "curved_grades = exam_scores + grade_curve"
   ]
  },
  {
   "cell_type": "code",
   "execution_count": 435,
   "id": "4b3903b0",
   "metadata": {},
   "outputs": [
    {
     "data": {
      "text/plain": [
       "0      64\n",
       "1      90\n",
       "2      79\n",
       "3      66\n",
       "4      97\n",
       "5      75\n",
       "6      64\n",
       "7      87\n",
       "8      99\n",
       "9      82\n",
       "10     69\n",
       "11     76\n",
       "12     73\n",
       "13     85\n",
       "14    100\n",
       "15     84\n",
       "16     89\n",
       "17     96\n",
       "18     86\n",
       "19     82\n",
       "dtype: int64"
      ]
     },
     "execution_count": 435,
     "metadata": {},
     "output_type": "execute_result"
    }
   ],
   "source": [
    "curved_grades"
   ]
  },
  {
   "cell_type": "markdown",
   "id": "d7636233",
   "metadata": {},
   "source": [
    "### Use a method to convert each of the numeric values in the curved_grades Series into a categorical value of letter grades. For example, 86 should be a 'B' and 95 should be an 'A'. Save this as a Series named letter_grades."
   ]
  },
  {
   "cell_type": "code",
   "execution_count": 436,
   "id": "bec3ee05",
   "metadata": {},
   "outputs": [],
   "source": [
    "bin_edges = [0,70,75,80,90,100]\n",
    "bin_labels = [\"F\",\"D\",\"C\",\"B\",\"A\"]\n",
    "letter_grades = pd.cut(curved_grades,bins = bin_edges, labels = bin_labels)"
   ]
  },
  {
   "cell_type": "code",
   "execution_count": 437,
   "id": "b7f5fe7e",
   "metadata": {},
   "outputs": [
    {
     "data": {
      "text/plain": [
       "0     F\n",
       "1     B\n",
       "2     C\n",
       "3     F\n",
       "4     A\n",
       "5     D\n",
       "6     F\n",
       "7     B\n",
       "8     A\n",
       "9     B\n",
       "10    F\n",
       "11    C\n",
       "12    D\n",
       "13    B\n",
       "14    A\n",
       "15    B\n",
       "16    B\n",
       "17    A\n",
       "18    B\n",
       "19    B\n",
       "dtype: category\n",
       "Categories (5, object): ['F' < 'D' < 'C' < 'B' < 'A']"
      ]
     },
     "execution_count": 437,
     "metadata": {},
     "output_type": "execute_result"
    }
   ],
   "source": [
    "letter_grades"
   ]
  },
  {
   "cell_type": "markdown",
   "id": "29e13822",
   "metadata": {},
   "source": [
    "### Plot your new categorical letter_grades Series in a meaninful way and include a title and axis labels."
   ]
  },
  {
   "cell_type": "code",
   "execution_count": 444,
   "id": "6305953a",
   "metadata": {},
   "outputs": [
    {
     "data": {
      "image/png": "[encoded data removed]",
      "text/plain": [
       "<Figure size 432x288 with 1 Axes>"
      ]
     },
     "metadata": {
      "needs_background": "light"
     },
     "output_type": "display_data"
    }
   ],
   "source": [
    "letter_grades.value_counts().sort_index(ascending = False).plot(kind = \"barh\")\n",
    "\n",
    "plt.title(\"Curved grades by letter\")\n",
    "plt.xlabel(\"Number of grade letter\")\n",
    "plt.ylabel(\"Letter grade\")\n",
    "plt.show()"
   ]
  }
 ],
 "metadata": {
  "kernelspec": {
   "display_name": "Python 3",
   "language": "python",
   "name": "python3"
  },
  "language_info": {
   "codemirror_mode": {
    "name": "ipython",
    "version": 3
   },
   "file_extension": ".py",
   "mimetype": "text/x-python",
   "name": "python",
   "nbconvert_exporter": "python",
   "pygments_lexer": "ipython3",
   "version": "3.8.8"
  }
 },
 "nbformat": 4,
 "nbformat_minor": 5
}
